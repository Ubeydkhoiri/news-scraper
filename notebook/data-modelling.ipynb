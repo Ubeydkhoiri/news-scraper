{
 "cells": [
  {
   "cell_type": "code",
   "execution_count": 68,
   "id": "1aab4e3c-71b0-4353-a356-85aeba57ba4c",
   "metadata": {
    "tags": []
   },
   "outputs": [
    {
     "name": "stdout",
     "output_type": "stream",
     "text": [
      "C:\\Users\\Nusatrip\\Repo\\news-scraper\\deployment_script\\data\n"
     ]
    }
   ],
   "source": [
    "import pandas as pd\n",
    "from pathlib import Path\n",
    "\n",
    "PARENT_DIR = Path().resolve().parent\n",
    "DATA_DIR = PARENT_DIR / 'deployment_script/data/'\n",
    "print(DATA_DIR)"
   ]
  },
  {
   "cell_type": "code",
   "execution_count": 69,
   "id": "70cd1c91-1786-497e-9160-764e7dd62127",
   "metadata": {
    "tags": []
   },
   "outputs": [
    {
     "data": {
      "text/html": [
       "<div>\n",
       "<style scoped>\n",
       "    .dataframe tbody tr th:only-of-type {\n",
       "        vertical-align: middle;\n",
       "    }\n",
       "\n",
       "    .dataframe tbody tr th {\n",
       "        vertical-align: top;\n",
       "    }\n",
       "\n",
       "    .dataframe thead th {\n",
       "        text-align: right;\n",
       "    }\n",
       "</style>\n",
       "<table border=\"1\" class=\"dataframe\">\n",
       "  <thead>\n",
       "    <tr style=\"text-align: right;\">\n",
       "      <th></th>\n",
       "      <th>keyword</th>\n",
       "      <th>platform</th>\n",
       "      <th>date</th>\n",
       "      <th>url</th>\n",
       "      <th>title</th>\n",
       "      <th>score</th>\n",
       "    </tr>\n",
       "  </thead>\n",
       "  <tbody>\n",
       "    <tr>\n",
       "      <th>0</th>\n",
       "      <td>anies baswedan</td>\n",
       "      <td>cnn</td>\n",
       "      <td>2024-01-04 10:12:02</td>\n",
       "      <td>https://www.cnnindonesia.com/nasional/20240104...</td>\n",
       "      <td>Rafael Alun Divonis 14 Tahun Bui di Kasus Grat...</td>\n",
       "      <td>0.000000</td>\n",
       "    </tr>\n",
       "    <tr>\n",
       "      <th>1</th>\n",
       "      <td>anies baswedan</td>\n",
       "      <td>cnn</td>\n",
       "      <td>2024-01-08 13:46:00</td>\n",
       "      <td>https://www.cnnindonesia.com/nasional/20240108...</td>\n",
       "      <td>Pertimbangan Hakim: Kata 'Lord' di Kasus Luhut...</td>\n",
       "      <td>0.000000</td>\n",
       "    </tr>\n",
       "    <tr>\n",
       "      <th>2</th>\n",
       "      <td>anies baswedan</td>\n",
       "      <td>cnn</td>\n",
       "      <td>2024-01-08 13:48:20</td>\n",
       "      <td>https://www.cnnindonesia.com/nasional/20240108...</td>\n",
       "      <td>Pemeriksaan Gus Miftah soal Bagi-Bagi Duit Dig...</td>\n",
       "      <td>-0.100000</td>\n",
       "    </tr>\n",
       "    <tr>\n",
       "      <th>3</th>\n",
       "      <td>anies baswedan</td>\n",
       "      <td>cnn</td>\n",
       "      <td>2024-01-08 13:25:16</td>\n",
       "      <td>https://www.cnnindonesia.com/internasional/202...</td>\n",
       "      <td>Menlu Retno: RI Pemain Utama di Kawasan-Global...</td>\n",
       "      <td>0.013889</td>\n",
       "    </tr>\n",
       "    <tr>\n",
       "      <th>4</th>\n",
       "      <td>anies baswedan</td>\n",
       "      <td>cnn</td>\n",
       "      <td>2024-01-08 12:47:42</td>\n",
       "      <td>https://www.cnnindonesia.com/internasional/202...</td>\n",
       "      <td>Menlu Retno Tagih Komitmen AS Cs soal Tampung ...</td>\n",
       "      <td>-0.125000</td>\n",
       "    </tr>\n",
       "  </tbody>\n",
       "</table>\n",
       "</div>"
      ],
      "text/plain": [
       "          keyword platform                 date  \\\n",
       "0  anies baswedan      cnn  2024-01-04 10:12:02   \n",
       "1  anies baswedan      cnn  2024-01-08 13:46:00   \n",
       "2  anies baswedan      cnn  2024-01-08 13:48:20   \n",
       "3  anies baswedan      cnn  2024-01-08 13:25:16   \n",
       "4  anies baswedan      cnn  2024-01-08 12:47:42   \n",
       "\n",
       "                                                 url  \\\n",
       "0  https://www.cnnindonesia.com/nasional/20240104...   \n",
       "1  https://www.cnnindonesia.com/nasional/20240108...   \n",
       "2  https://www.cnnindonesia.com/nasional/20240108...   \n",
       "3  https://www.cnnindonesia.com/internasional/202...   \n",
       "4  https://www.cnnindonesia.com/internasional/202...   \n",
       "\n",
       "                                               title     score  \n",
       "0  Rafael Alun Divonis 14 Tahun Bui di Kasus Grat...  0.000000  \n",
       "1  Pertimbangan Hakim: Kata 'Lord' di Kasus Luhut...  0.000000  \n",
       "2  Pemeriksaan Gus Miftah soal Bagi-Bagi Duit Dig... -0.100000  \n",
       "3  Menlu Retno: RI Pemain Utama di Kawasan-Global...  0.013889  \n",
       "4  Menlu Retno Tagih Komitmen AS Cs soal Tampung ... -0.125000  "
      ]
     },
     "execution_count": 69,
     "metadata": {},
     "output_type": "execute_result"
    }
   ],
   "source": [
    "df = pd.read_csv(DATA_DIR / 'data.csv')\n",
    "df.head()"
   ]
  },
  {
   "cell_type": "code",
   "execution_count": 83,
   "id": "5dba31d5-243e-42c8-9637-54a06b056f0f",
   "metadata": {
    "tags": []
   },
   "outputs": [],
   "source": [
    "from nltk.corpus import stopwords\n",
    "\n",
    "stopwords = ['ada','di','ini','itu','yang']"
   ]
  },
  {
   "cell_type": "code",
   "execution_count": 71,
   "id": "235c5216-717a-4eb9-88b4-00c10715454f",
   "metadata": {
    "tags": []
   },
   "outputs": [
    {
     "name": "stdout",
     "output_type": "stream",
     "text": [
      "kembang kuliner di indonesia cukup bangga dalam 10 tahun akhir\n"
     ]
    }
   ],
   "source": [
    "from Sastrawi.Stemmer.StemmerFactory import StemmerFactory\n",
    "\n",
    "factory = StemmerFactory()\n",
    "stemmer = factory.create_stemmer()\n",
    "\n",
    "# stemming process\n",
    "sentence = 'Perkembangan kuliner di indonesia cukup membanggakan dalam 10 tahun terakhir'\n",
    "output   = stemmer.stem(sentence)\n",
    "\n",
    "print(output)"
   ]
  },
  {
   "cell_type": "code",
   "execution_count": 84,
   "id": "a43cbd37-2ab4-46f1-a60b-7955d58a0529",
   "metadata": {
    "tags": []
   },
   "outputs": [
    {
     "data": {
      "text/plain": [
       "\"Pertimbangan Hakim: Kata 'Lord' di Kasus Luhut Bukan Penghinaan\""
      ]
     },
     "execution_count": 84,
     "metadata": {},
     "output_type": "execute_result"
    }
   ],
   "source": [
    "text = df.loc[1,'title']\n",
    "text"
   ]
  },
  {
   "cell_type": "code",
   "execution_count": 85,
   "id": "be048265-68c4-42a7-8f09-a569454fcfb3",
   "metadata": {
    "tags": []
   },
   "outputs": [],
   "source": [
    "def clean_text(text):\n",
    "    text_lower = text.strip().lower()\n",
    "    text_sw = \" \".join([w for w in text_lower.split() if w not in stopwords])\n",
    "    text_clean = stemmer.stem(text_sw)\n",
    "    return text_clean"
   ]
  },
  {
   "cell_type": "code",
   "execution_count": 86,
   "id": "72efe1b1-d3a4-404f-9254-c1fc1d01c7ef",
   "metadata": {
    "tags": []
   },
   "outputs": [
    {
     "data": {
      "text/plain": [
       "'timbang hakim kata lord kasus luhut bukan hina'"
      ]
     },
     "execution_count": 86,
     "metadata": {},
     "output_type": "execute_result"
    }
   ],
   "source": [
    "clean_text(text)"
   ]
  },
  {
   "cell_type": "code",
   "execution_count": 87,
   "id": "59ba8216-eeec-4450-b8ee-37d3d78450a0",
   "metadata": {
    "tags": []
   },
   "outputs": [
    {
     "data": {
      "text/html": [
       "<div>\n",
       "<style scoped>\n",
       "    .dataframe tbody tr th:only-of-type {\n",
       "        vertical-align: middle;\n",
       "    }\n",
       "\n",
       "    .dataframe tbody tr th {\n",
       "        vertical-align: top;\n",
       "    }\n",
       "\n",
       "    .dataframe thead th {\n",
       "        text-align: right;\n",
       "    }\n",
       "</style>\n",
       "<table border=\"1\" class=\"dataframe\">\n",
       "  <thead>\n",
       "    <tr style=\"text-align: right;\">\n",
       "      <th></th>\n",
       "      <th>keyword</th>\n",
       "      <th>platform</th>\n",
       "      <th>date</th>\n",
       "      <th>url</th>\n",
       "      <th>title</th>\n",
       "      <th>score</th>\n",
       "      <th>clean_title</th>\n",
       "    </tr>\n",
       "  </thead>\n",
       "  <tbody>\n",
       "    <tr>\n",
       "      <th>0</th>\n",
       "      <td>anies baswedan</td>\n",
       "      <td>cnn</td>\n",
       "      <td>2024-01-04 10:12:02</td>\n",
       "      <td>https://www.cnnindonesia.com/nasional/20240104...</td>\n",
       "      <td>Rafael Alun Divonis 14 Tahun Bui di Kasus Grat...</td>\n",
       "      <td>0.000000</td>\n",
       "      <td>rafael alun vonis 14 tahun bui kasus gratifika...</td>\n",
       "    </tr>\n",
       "    <tr>\n",
       "      <th>1</th>\n",
       "      <td>anies baswedan</td>\n",
       "      <td>cnn</td>\n",
       "      <td>2024-01-08 13:46:00</td>\n",
       "      <td>https://www.cnnindonesia.com/nasional/20240108...</td>\n",
       "      <td>Pertimbangan Hakim: Kata 'Lord' di Kasus Luhut...</td>\n",
       "      <td>0.000000</td>\n",
       "      <td>timbang hakim kata lord kasus luhut bukan hina</td>\n",
       "    </tr>\n",
       "    <tr>\n",
       "      <th>2</th>\n",
       "      <td>anies baswedan</td>\n",
       "      <td>cnn</td>\n",
       "      <td>2024-01-08 13:48:20</td>\n",
       "      <td>https://www.cnnindonesia.com/nasional/20240108...</td>\n",
       "      <td>Pemeriksaan Gus Miftah soal Bagi-Bagi Duit Dig...</td>\n",
       "      <td>-0.100000</td>\n",
       "      <td>periksa gus miftah soal bagi duit gelar tutup</td>\n",
       "    </tr>\n",
       "    <tr>\n",
       "      <th>3</th>\n",
       "      <td>anies baswedan</td>\n",
       "      <td>cnn</td>\n",
       "      <td>2024-01-08 13:25:16</td>\n",
       "      <td>https://www.cnnindonesia.com/internasional/202...</td>\n",
       "      <td>Menlu Retno: RI Pemain Utama di Kawasan-Global...</td>\n",
       "      <td>0.013889</td>\n",
       "      <td>menlu retno ri main utama kawasan-global bukan...</td>\n",
       "    </tr>\n",
       "    <tr>\n",
       "      <th>4</th>\n",
       "      <td>anies baswedan</td>\n",
       "      <td>cnn</td>\n",
       "      <td>2024-01-08 12:47:42</td>\n",
       "      <td>https://www.cnnindonesia.com/internasional/202...</td>\n",
       "      <td>Menlu Retno Tagih Komitmen AS Cs soal Tampung ...</td>\n",
       "      <td>-0.125000</td>\n",
       "      <td>menlu retno tagih komitmen as cs soal tampung ...</td>\n",
       "    </tr>\n",
       "  </tbody>\n",
       "</table>\n",
       "</div>"
      ],
      "text/plain": [
       "          keyword platform                 date  \\\n",
       "0  anies baswedan      cnn  2024-01-04 10:12:02   \n",
       "1  anies baswedan      cnn  2024-01-08 13:46:00   \n",
       "2  anies baswedan      cnn  2024-01-08 13:48:20   \n",
       "3  anies baswedan      cnn  2024-01-08 13:25:16   \n",
       "4  anies baswedan      cnn  2024-01-08 12:47:42   \n",
       "\n",
       "                                                 url  \\\n",
       "0  https://www.cnnindonesia.com/nasional/20240104...   \n",
       "1  https://www.cnnindonesia.com/nasional/20240108...   \n",
       "2  https://www.cnnindonesia.com/nasional/20240108...   \n",
       "3  https://www.cnnindonesia.com/internasional/202...   \n",
       "4  https://www.cnnindonesia.com/internasional/202...   \n",
       "\n",
       "                                               title     score  \\\n",
       "0  Rafael Alun Divonis 14 Tahun Bui di Kasus Grat...  0.000000   \n",
       "1  Pertimbangan Hakim: Kata 'Lord' di Kasus Luhut...  0.000000   \n",
       "2  Pemeriksaan Gus Miftah soal Bagi-Bagi Duit Dig... -0.100000   \n",
       "3  Menlu Retno: RI Pemain Utama di Kawasan-Global...  0.013889   \n",
       "4  Menlu Retno Tagih Komitmen AS Cs soal Tampung ... -0.125000   \n",
       "\n",
       "                                         clean_title  \n",
       "0  rafael alun vonis 14 tahun bui kasus gratifika...  \n",
       "1     timbang hakim kata lord kasus luhut bukan hina  \n",
       "2      periksa gus miftah soal bagi duit gelar tutup  \n",
       "3  menlu retno ri main utama kawasan-global bukan...  \n",
       "4  menlu retno tagih komitmen as cs soal tampung ...  "
      ]
     },
     "execution_count": 87,
     "metadata": {},
     "output_type": "execute_result"
    }
   ],
   "source": [
    "df['clean_title'] = df['title'].apply(clean_text)\n",
    "df.head()"
   ]
  },
  {
   "cell_type": "code",
   "execution_count": 58,
   "id": "6fe785a7-ddf5-4744-89f3-b566693f9521",
   "metadata": {
    "tags": []
   },
   "outputs": [],
   "source": [
    "df['label'] = [1 if i > 0 else 0 if i == 0 else -1 for i in df['score']]"
   ]
  },
  {
   "cell_type": "code",
   "execution_count": 90,
   "id": "a1666cb0-e3a0-4828-af51-d8145e3ee8aa",
   "metadata": {
    "tags": []
   },
   "outputs": [
    {
     "data": {
      "text/html": [
       "<div>\n",
       "<style scoped>\n",
       "    .dataframe tbody tr th:only-of-type {\n",
       "        vertical-align: middle;\n",
       "    }\n",
       "\n",
       "    .dataframe tbody tr th {\n",
       "        vertical-align: top;\n",
       "    }\n",
       "\n",
       "    .dataframe thead th {\n",
       "        text-align: right;\n",
       "    }\n",
       "</style>\n",
       "<table border=\"1\" class=\"dataframe\">\n",
       "  <thead>\n",
       "    <tr style=\"text-align: right;\">\n",
       "      <th>keyword</th>\n",
       "      <th>anies baswedan</th>\n",
       "      <th>ganjar pranowo</th>\n",
       "      <th>prabowo subianto</th>\n",
       "    </tr>\n",
       "    <tr>\n",
       "      <th>date</th>\n",
       "      <th></th>\n",
       "      <th></th>\n",
       "      <th></th>\n",
       "    </tr>\n",
       "  </thead>\n",
       "  <tbody>\n",
       "    <tr>\n",
       "      <th>2024-01-01</th>\n",
       "      <td>17</td>\n",
       "      <td>34</td>\n",
       "      <td>10</td>\n",
       "    </tr>\n",
       "    <tr>\n",
       "      <th>2024-01-02</th>\n",
       "      <td>8</td>\n",
       "      <td>59</td>\n",
       "      <td>20</td>\n",
       "    </tr>\n",
       "    <tr>\n",
       "      <th>2024-01-03</th>\n",
       "      <td>25</td>\n",
       "      <td>46</td>\n",
       "      <td>17</td>\n",
       "    </tr>\n",
       "    <tr>\n",
       "      <th>2024-01-04</th>\n",
       "      <td>20</td>\n",
       "      <td>71</td>\n",
       "      <td>34</td>\n",
       "    </tr>\n",
       "    <tr>\n",
       "      <th>2024-01-05</th>\n",
       "      <td>11</td>\n",
       "      <td>18</td>\n",
       "      <td>24</td>\n",
       "    </tr>\n",
       "    <tr>\n",
       "      <th>2024-01-06</th>\n",
       "      <td>40</td>\n",
       "      <td>42</td>\n",
       "      <td>28</td>\n",
       "    </tr>\n",
       "    <tr>\n",
       "      <th>2024-01-07</th>\n",
       "      <td>254</td>\n",
       "      <td>205</td>\n",
       "      <td>291</td>\n",
       "    </tr>\n",
       "    <tr>\n",
       "      <th>2024-01-08</th>\n",
       "      <td>130</td>\n",
       "      <td>107</td>\n",
       "      <td>154</td>\n",
       "    </tr>\n",
       "  </tbody>\n",
       "</table>\n",
       "</div>"
      ],
      "text/plain": [
       "keyword     anies baswedan  ganjar pranowo  prabowo subianto\n",
       "date                                                        \n",
       "2024-01-01              17              34                10\n",
       "2024-01-02               8              59                20\n",
       "2024-01-03              25              46                17\n",
       "2024-01-04              20              71                34\n",
       "2024-01-05              11              18                24\n",
       "2024-01-06              40              42                28\n",
       "2024-01-07             254             205               291\n",
       "2024-01-08             130             107               154"
      ]
     },
     "execution_count": 90,
     "metadata": {},
     "output_type": "execute_result"
    }
   ],
   "source": [
    "tmp =df.copy()\n",
    "tmp['date'] = pd.to_datetime(tmp['date']).dt.date\n",
    "tmp.pivot_table(values='title', index='date', columns='keyword', aggfunc='count').fillna(0).astype(int)"
   ]
  },
  {
   "cell_type": "code",
   "execution_count": 94,
   "id": "637c4d70-8c99-4843-9ee9-b2807ea7cc84",
   "metadata": {
    "tags": []
   },
   "outputs": [
    {
     "data": {
      "text/plain": [
       "'anies'"
      ]
     },
     "execution_count": 94,
     "metadata": {},
     "output_type": "execute_result"
    }
   ],
   "source": [
    "clean_text('anies:')"
   ]
  },
  {
   "cell_type": "code",
   "execution_count": 92,
   "id": "58dea0ca-4177-4108-9088-779fae04e191",
   "metadata": {
    "tags": []
   },
   "outputs": [],
   "source": []
  },
  {
   "cell_type": "code",
   "execution_count": null,
   "id": "1c9b2bad-7832-4582-983b-e176655d9ad0",
   "metadata": {
    "tags": []
   },
   "outputs": [],
   "source": []
  },
  {
   "cell_type": "code",
   "execution_count": null,
   "id": "85696459-16bf-46a8-8e17-d8cbb7338b24",
   "metadata": {},
   "outputs": [],
   "source": []
  }
 ],
 "metadata": {
  "kernelspec": {
   "display_name": "Python 3 (ipykernel)",
   "language": "python",
   "name": "python3"
  },
  "language_info": {
   "codemirror_mode": {
    "name": "ipython",
    "version": 3
   },
   "file_extension": ".py",
   "mimetype": "text/x-python",
   "name": "python",
   "nbconvert_exporter": "python",
   "pygments_lexer": "ipython3",
   "version": "3.11.5"
  }
 },
 "nbformat": 4,
 "nbformat_minor": 5
}
