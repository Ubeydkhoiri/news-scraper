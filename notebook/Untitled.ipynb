{
 "cells": [
  {
   "cell_type": "code",
   "execution_count": 24,
   "id": "83eb4fbd-f4cd-4b50-b8bf-db3f9bfd2747",
   "metadata": {
    "tags": []
   },
   "outputs": [],
   "source": [
    "# Import necessary modules from Selenium\n",
    "from selenium import webdriver\n",
    "from selenium.webdriver.common.by import By"
   ]
  },
  {
   "cell_type": "code",
   "execution_count": 33,
   "id": "07f94c57-8c08-4530-8192-67e747cf0308",
   "metadata": {
    "tags": []
   },
   "outputs": [],
   "source": [
    "# Create a new Firefox WebDriver instance\n",
    "driver = webdriver.Firefox()"
   ]
  },
  {
   "cell_type": "code",
   "execution_count": 34,
   "id": "dd86b36e-1392-40d3-9533-f44b0f60f3a8",
   "metadata": {
    "tags": []
   },
   "outputs": [],
   "source": [
    "x_url = 'https://twitter.com/search?q=anies'\n",
    "\n",
    "driver.get(x_url)"
   ]
  },
  {
   "cell_type": "code",
   "execution_count": 35,
   "id": "70214171-cbe5-47f1-b127-9d0d18f51cd8",
   "metadata": {
    "tags": []
   },
   "outputs": [],
   "source": [
    "cookies = driver.get_cookies()"
   ]
  },
  {
   "cell_type": "code",
   "execution_count": 38,
   "id": "9eb22157-834b-4611-8ade-5d3d66a28ec4",
   "metadata": {
    "tags": []
   },
   "outputs": [],
   "source": [
    "def save_cookies_to_file(cookies, file_path='cookies.txt'):\n",
    "    with open(file_path, 'w') as file:\n",
    "        file.write(str(cookies))"
   ]
  },
  {
   "cell_type": "code",
   "execution_count": 39,
   "id": "82eeb2a8-d05b-491e-a53a-72213ae54731",
   "metadata": {
    "tags": []
   },
   "outputs": [],
   "source": [
    "save_cookies_to_file(cookies)"
   ]
  },
  {
   "cell_type": "code",
   "execution_count": 40,
   "id": "264c3285-0ee4-42db-ac06-e445ab68ecc5",
   "metadata": {
    "tags": []
   },
   "outputs": [],
   "source": [
    "# Fungsi untuk membaca cookie dari file\n",
    "def load_cookies_from_file(file_path='cookies.txt'):\n",
    "    with open(file_path, 'r') as file:\n",
    "        cookies = eval(file.read())\n",
    "    return cookies"
   ]
  },
  {
   "cell_type": "code",
   "execution_count": 42,
   "id": "4a73f043-a468-4acd-8890-23b0d0ada4ac",
   "metadata": {
    "tags": []
   },
   "outputs": [],
   "source": [
    "driver = webdriver.Firefox()"
   ]
  },
  {
   "cell_type": "code",
   "execution_count": 46,
   "id": "8c413a4f-4681-4729-b2e3-96071968ff1b",
   "metadata": {
    "tags": []
   },
   "outputs": [],
   "source": [
    "\n",
    "# Buka situs web\n",
    "driver.get('https://twitter.com/')"
   ]
  },
  {
   "cell_type": "code",
   "execution_count": 44,
   "id": "ecc75431-7c85-49c5-ad71-1a6abadf13ed",
   "metadata": {
    "tags": []
   },
   "outputs": [],
   "source": [
    "# Mendapatkan cookie dari file\n",
    "cookies = load_cookies_from_file()\n",
    "\n",
    "# Menambahkan cookie ke sesi saat ini\n",
    "for cookie in cookies:\n",
    "    driver.add_cookie(cookie)\n",
    "\n",
    "# Refresh halaman atau navigasi ke halaman baru untuk menerapkan cookie\n",
    "driver.refresh()"
   ]
  },
  {
   "cell_type": "code",
   "execution_count": 45,
   "id": "ef112f12-768b-47a3-8521-f29a0d667c55",
   "metadata": {
    "tags": []
   },
   "outputs": [
    {
     "data": {
      "text/plain": [
       "[{'name': 'guest_id',\n",
       "  'value': 'v1%3A170478148941804859',\n",
       "  'path': '/',\n",
       "  'domain': '.twitter.com',\n",
       "  'secure': True,\n",
       "  'httpOnly': False,\n",
       "  'expiry': 1767853491,\n",
       "  'sameSite': 'None'},\n",
       " {'name': 'gt',\n",
       "  'value': '1744606130750546249',\n",
       "  'path': '/',\n",
       "  'domain': '.twitter.com',\n",
       "  'secure': True,\n",
       "  'httpOnly': False,\n",
       "  'expiry': 1704790491,\n",
       "  'sameSite': 'None'},\n",
       " {'name': '_gat',\n",
       "  'value': '1',\n",
       "  'path': '/',\n",
       "  'domain': '.twitter.com',\n",
       "  'secure': False,\n",
       "  'httpOnly': False,\n",
       "  'expiry': 1704781554,\n",
       "  'sameSite': 'None'},\n",
       " {'name': '_twitter_sess',\n",
       "  'value': 'BAh7CSIKZmxhc2hJQzonQWN0aW9uQ29udHJvbGxlcjo6Rmxhc2g6OkZsYXNo%250ASGFzaHsABjoKQHVzZWR7ADoPY3JlYXRlZF9hdGwrCE0w5eyMAToMY3NyZl9p%250AZCIlOWY5Yjg3MzEyZmNjNmQ0MmQyZDQyMGU5MGMwNjhjNmE6B2lkIiU0YTNj%250AMDc4N2VkZGE3ZjYyMzdlYWM2ZTQ4NmViNWMzYg%253D%253D--bdd7876085f0af115e75bf9022174a02922115e5',\n",
       "  'path': '/',\n",
       "  'domain': '.twitter.com',\n",
       "  'secure': True,\n",
       "  'httpOnly': True,\n",
       "  'sameSite': 'None'},\n",
       " {'name': 'g_state',\n",
       "  'value': '{\"i_p\":1704788696570,\"i_l\":1}',\n",
       "  'path': '/',\n",
       "  'domain': 'twitter.com',\n",
       "  'secure': False,\n",
       "  'httpOnly': False,\n",
       "  'expiry': 1720333496,\n",
       "  'sameSite': 'None'},\n",
       " {'name': 'kdt',\n",
       "  'value': '6sJSPelvMSsfg7yE70jNdPVQinsUZy9ONKnYHTeX',\n",
       "  'path': '/',\n",
       "  'domain': '.twitter.com',\n",
       "  'secure': True,\n",
       "  'httpOnly': True,\n",
       "  'expiry': 1752042331,\n",
       "  'sameSite': 'None'},\n",
       " {'name': 'auth_token',\n",
       "  'value': '9cf1742ca9acbc1fe8683010039d46f5db17f7b8',\n",
       "  'path': '/',\n",
       "  'domain': '.twitter.com',\n",
       "  'secure': True,\n",
       "  'httpOnly': True,\n",
       "  'expiry': 1862461531,\n",
       "  'sameSite': 'None'},\n",
       " {'name': 'guest_id_ads',\n",
       "  'value': 'v1%3A170478148941804859',\n",
       "  'path': '/',\n",
       "  'domain': '.twitter.com',\n",
       "  'secure': True,\n",
       "  'httpOnly': False,\n",
       "  'expiry': 1767853532,\n",
       "  'sameSite': 'None'},\n",
       " {'name': 'guest_id_marketing',\n",
       "  'value': 'v1%3A170478148941804859',\n",
       "  'path': '/',\n",
       "  'domain': '.twitter.com',\n",
       "  'secure': True,\n",
       "  'httpOnly': False,\n",
       "  'expiry': 1767853532,\n",
       "  'sameSite': 'None'},\n",
       " {'name': 'lang',\n",
       "  'value': 'id',\n",
       "  'path': '/',\n",
       "  'domain': 'twitter.com',\n",
       "  'secure': False,\n",
       "  'httpOnly': False,\n",
       "  'sameSite': 'None'},\n",
       " {'name': 'twid',\n",
       "  'value': 'u%3D1652873960',\n",
       "  'path': '/',\n",
       "  'domain': '.twitter.com',\n",
       "  'secure': True,\n",
       "  'httpOnly': False,\n",
       "  'expiry': 1736317532,\n",
       "  'sameSite': 'None'},\n",
       " {'name': 'att',\n",
       "  'value': '1-qiY5eCHKkXIv4ZEkrj23zFkuO44snBnX7GD1xhBw',\n",
       "  'path': '/',\n",
       "  'domain': '.twitter.com',\n",
       "  'secure': True,\n",
       "  'httpOnly': True,\n",
       "  'expiry': 1704867932,\n",
       "  'sameSite': 'None'},\n",
       " {'name': 'personalization_id',\n",
       "  'value': '\"v1_+y2e+PR1CkPqjAxRx0QPaA==\"',\n",
       "  'path': '/',\n",
       "  'domain': '.twitter.com',\n",
       "  'secure': True,\n",
       "  'httpOnly': False,\n",
       "  'expiry': 1767853532,\n",
       "  'sameSite': 'None'},\n",
       " {'name': '_ga',\n",
       "  'value': 'GA1.2.1315528798.1704781494',\n",
       "  'path': '/',\n",
       "  'domain': '.twitter.com',\n",
       "  'secure': False,\n",
       "  'httpOnly': False,\n",
       "  'expiry': 1767853534,\n",
       "  'sameSite': 'None'},\n",
       " {'name': '_gid',\n",
       "  'value': 'GA1.2.1506343677.1704781494',\n",
       "  'path': '/',\n",
       "  'domain': '.twitter.com',\n",
       "  'secure': False,\n",
       "  'httpOnly': False,\n",
       "  'expiry': 1704867934,\n",
       "  'sameSite': 'None'},\n",
       " {'name': 'ct0',\n",
       "  'value': '4fb83d036a6f8a1e6222e7e86ad07068de9310c3c08aae1987fc9765df1740953e3d1c18a50e641f0d62346639a40917939c59520c68b0d0055db58994eb858691989d45b045c837d8f77996ebb1ca12',\n",
       "  'path': '/',\n",
       "  'domain': '.twitter.com',\n",
       "  'secure': True,\n",
       "  'httpOnly': False,\n",
       "  'expiry': 1862461534,\n",
       "  'sameSite': 'Lax'}]"
      ]
     },
     "execution_count": 45,
     "metadata": {},
     "output_type": "execute_result"
    }
   ],
   "source": [
    "cookies"
   ]
  },
  {
   "cell_type": "code",
   "execution_count": null,
   "id": "ee14e80f-61d6-406a-b90d-1d2d533dfc8d",
   "metadata": {},
   "outputs": [],
   "source": []
  }
 ],
 "metadata": {
  "kernelspec": {
   "display_name": "Python 3 (ipykernel)",
   "language": "python",
   "name": "python3"
  },
  "language_info": {
   "codemirror_mode": {
    "name": "ipython",
    "version": 3
   },
   "file_extension": ".py",
   "mimetype": "text/x-python",
   "name": "python",
   "nbconvert_exporter": "python",
   "pygments_lexer": "ipython3",
   "version": "3.11.5"
  }
 },
 "nbformat": 4,
 "nbformat_minor": 5
}
